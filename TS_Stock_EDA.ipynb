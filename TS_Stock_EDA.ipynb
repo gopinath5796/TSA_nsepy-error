{
 "cells": [
  {
   "cell_type": "code",
   "execution_count": 1,
   "id": "5283f472",
   "metadata": {},
   "outputs": [],
   "source": [
    "#pip install nsepy"
   ]
  },
  {
   "cell_type": "code",
   "execution_count": 2,
   "id": "e5177a04",
   "metadata": {},
   "outputs": [],
   "source": [
    "from Descriptive import Descriptive"
   ]
  },
  {
   "cell_type": "code",
   "execution_count": 3,
   "id": "c3f8c8aa",
   "metadata": {},
   "outputs": [],
   "source": [
    "obj=Descriptive()"
   ]
  },
  {
   "cell_type": "code",
   "execution_count": 4,
   "id": "4d933830",
   "metadata": {},
   "outputs": [
    {
     "name": "stderr",
     "output_type": "stream",
     "text": [
      "Exception in thread Thread-6 (get_history):\n",
      "Traceback (most recent call last):\n",
      "  File \"C:\\Users\\Admin\\anaconda3\\Lib\\threading.py\", line 1038, in _bootstrap_inner\n",
      "    self.run()\n",
      "  File \"C:\\Users\\Admin\\anaconda3\\Lib\\site-packages\\nsepy\\commons.py\", line 132, in run\n",
      "    self.result = self._target(*self._args, **self._kwargs)\n",
      "                  ^^^^^^^^^^^^^^^^^^^^^^^^^^^^^^^^^^^^^^^^^\n",
      "  File \"C:\\Users\\Admin\\anaconda3\\Lib\\site-packages\\nsepy\\history.py\", line 138, in get_history\n",
      "    return get_history_quanta(**kwargs)\n",
      "           ^^^^^^^^^^^^^^^^^^^^^^^^^^^^\n",
      "  File \"C:\\Users\\Admin\\anaconda3\\Lib\\site-packages\\nsepy\\history.py\", line 143, in get_history_quanta\n",
      "    df = url_to_df(url=url,\n",
      "         ^^^^^^^^^^^^^^^^^^\n",
      "  File \"C:\\Users\\Admin\\anaconda3\\Lib\\site-packages\\nsepy\\history.py\", line 151, in url_to_df\n",
      "    resp = url(**params)\n",
      "           ^^^^^^^^^^^^^\n",
      "  File \"C:\\Users\\Admin\\anaconda3\\Lib\\site-packages\\nsepy\\commons.py\", line 167, in __call__\n",
      "    return self.session.get(url, params=kwargs, proxies = self.proxy )\n",
      "           ^^^^^^^^^^^^^^^^^^^^^^^^^^^^^^^^^^^^^^^^^^^^^^^^^^^^^^^^^^^\n",
      "  File \"C:\\Users\\Admin\\anaconda3\\Lib\\site-packages\\requests\\sessions.py\", line 602, in get\n",
      "    return self.request(\"GET\", url, **kwargs)\n",
      "           ^^^^^^^^^^^^^^^^^^^^^^^^^^^^^^^^^^\n",
      "  File \"C:\\Users\\Admin\\anaconda3\\Lib\\site-packages\\requests\\sessions.py\", line 589, in request\n",
      "    resp = self.send(prep, **send_kwargs)\n",
      "           ^^^^^^^^^^^^^^^^^^^^^^^^^^^^^^\n",
      "  File \"C:\\Users\\Admin\\anaconda3\\Lib\\site-packages\\requests\\sessions.py\", line 725, in send\n",
      "    history = [resp for resp in gen]\n",
      "              ^^^^^^^^^^^^^^^^^^^^^^\n",
      "  File \"C:\\Users\\Admin\\anaconda3\\Lib\\site-packages\\requests\\sessions.py\", line 725, in <listcomp>\n",
      "    history = [resp for resp in gen]\n",
      "              ^^^^^^^^^^^^^^^^^^^^^^\n",
      "  File \"C:\\Users\\Admin\\anaconda3\\Lib\\site-packages\\requests\\sessions.py\", line 191, in resolve_redirects\n",
      "    raise TooManyRedirects(\n",
      "requests.exceptions.TooManyRedirects: Exceeded 30 redirects.\n",
      "Exception in thread Thread-5 (get_history):\n",
      "Traceback (most recent call last):\n",
      "  File \"C:\\Users\\Admin\\anaconda3\\Lib\\threading.py\", line 1038, in _bootstrap_inner\n",
      "    self.run()\n",
      "  File \"C:\\Users\\Admin\\anaconda3\\Lib\\site-packages\\nsepy\\commons.py\", line 132, in run\n",
      "    self.result = self._target(*self._args, **self._kwargs)\n",
      "                  ^^^^^^^^^^^^^^^^^^^^^^^^^^^^^^^^^^^^^^^^^\n",
      "  File \"C:\\Users\\Admin\\anaconda3\\Lib\\site-packages\\nsepy\\history.py\", line 138, in get_history\n",
      "    return get_history_quanta(**kwargs)\n",
      "           ^^^^^^^^^^^^^^^^^^^^^^^^^^^^\n",
      "  File \"C:\\Users\\Admin\\anaconda3\\Lib\\site-packages\\nsepy\\history.py\", line 143, in get_history_quanta\n",
      "    df = url_to_df(url=url,\n",
      "         ^^^^^^^^^^^^^^^^^^\n",
      "  File \"C:\\Users\\Admin\\anaconda3\\Lib\\site-packages\\nsepy\\history.py\", line 151, in url_to_df\n",
      "    resp = url(**params)\n",
      "           ^^^^^^^^^^^^^\n",
      "  File \"C:\\Users\\Admin\\anaconda3\\Lib\\site-packages\\nsepy\\commons.py\", line 167, in __call__\n",
      "    return self.session.get(url, params=kwargs, proxies = self.proxy )\n",
      "           ^^^^^^^^^^^^^^^^^^^^^^^^^^^^^^^^^^^^^^^^^^^^^^^^^^^^^^^^^^^\n",
      "  File \"C:\\Users\\Admin\\anaconda3\\Lib\\site-packages\\requests\\sessions.py\", line 602, in get\n",
      "    return self.request(\"GET\", url, **kwargs)\n",
      "           ^^^^^^^^^^^^^^^^^^^^^^^^^^^^^^^^^^\n",
      "  File \"C:\\Users\\Admin\\anaconda3\\Lib\\site-packages\\requests\\sessions.py\", line 589, in request\n",
      "    resp = self.send(prep, **send_kwargs)\n",
      "           ^^^^^^^^^^^^^^^^^^^^^^^^^^^^^^\n",
      "  File \"C:\\Users\\Admin\\anaconda3\\Lib\\site-packages\\requests\\sessions.py\", line 725, in send\n",
      "    history = [resp for resp in gen]\n",
      "              ^^^^^^^^^^^^^^^^^^^^^^\n",
      "  File \"C:\\Users\\Admin\\anaconda3\\Lib\\site-packages\\requests\\sessions.py\", line 725, in <listcomp>\n",
      "    history = [resp for resp in gen]\n",
      "              ^^^^^^^^^^^^^^^^^^^^^^\n",
      "  File \"C:\\Users\\Admin\\anaconda3\\Lib\\site-packages\\requests\\sessions.py\", line 191, in resolve_redirects\n",
      "    raise TooManyRedirects(\n",
      "requests.exceptions.TooManyRedirects: Exceeded 30 redirects.\n"
     ]
    },
    {
     "ename": "AttributeError",
     "evalue": "'ThreadReturns' object has no attribute 'result'",
     "output_type": "error",
     "traceback": [
      "\u001b[1;31m---------------------------------------------------------------------------\u001b[0m",
      "\u001b[1;31mAttributeError\u001b[0m                            Traceback (most recent call last)",
      "Cell \u001b[1;32mIn[4], line 5\u001b[0m\n\u001b[0;32m      3\u001b[0m start \u001b[38;5;241m=\u001b[39m dt\u001b[38;5;241m.\u001b[39mdatetime(\u001b[38;5;241m2021\u001b[39m,\u001b[38;5;241m6\u001b[39m,\u001b[38;5;241m1\u001b[39m)\n\u001b[0;32m      4\u001b[0m end \u001b[38;5;241m=\u001b[39m dt\u001b[38;5;241m.\u001b[39mdatetime(\u001b[38;5;241m2022\u001b[39m,\u001b[38;5;241m1\u001b[39m,\u001b[38;5;241m5\u001b[39m)\n\u001b[1;32m----> 5\u001b[0m stk_data \u001b[38;5;241m=\u001b[39m gh(symbol\u001b[38;5;241m=\u001b[39m\u001b[38;5;124m'\u001b[39m\u001b[38;5;124mTATACOFFEE\u001b[39m\u001b[38;5;124m'\u001b[39m,start\u001b[38;5;241m=\u001b[39mstart,end\u001b[38;5;241m=\u001b[39mend)\n",
      "File \u001b[1;32m~\\anaconda3\\Lib\\site-packages\\nsepy\\history.py:136\u001b[0m, in \u001b[0;36mget_history\u001b[1;34m(symbol, start, end, index, futures, option_type, expiry_date, strike_price, series)\u001b[0m\n\u001b[0;32m    134\u001b[0m     t1\u001b[38;5;241m.\u001b[39mjoin()\n\u001b[0;32m    135\u001b[0m     t2\u001b[38;5;241m.\u001b[39mjoin()\n\u001b[1;32m--> 136\u001b[0m     \u001b[38;5;28;01mreturn\u001b[39;00m pd\u001b[38;5;241m.\u001b[39mconcat((t1\u001b[38;5;241m.\u001b[39mresult, t2\u001b[38;5;241m.\u001b[39mresult))\n\u001b[0;32m    137\u001b[0m \u001b[38;5;28;01melse\u001b[39;00m:\n\u001b[0;32m    138\u001b[0m     \u001b[38;5;28;01mreturn\u001b[39;00m get_history_quanta(\u001b[38;5;241m*\u001b[39m\u001b[38;5;241m*\u001b[39mkwargs)\n",
      "\u001b[1;31mAttributeError\u001b[0m: 'ThreadReturns' object has no attribute 'result'"
     ]
    }
   ],
   "source": [
    "from nsepy import get_history as gh\n",
    "import datetime as dt\n",
    "start = dt.datetime(2021,6,1)\n",
    "end = dt.datetime(2022,1,5)\n",
    "stk_data = gh(symbol='TATACOFFEE',start=start,end=end)"
   ]
  },
  {
   "cell_type": "code",
   "execution_count": null,
   "id": "7323cfd0",
   "metadata": {},
   "outputs": [],
   "source": [
    "#pip search nsepy"
   ]
  },
  {
   "cell_type": "code",
   "execution_count": null,
   "id": "93c2a256",
   "metadata": {},
   "outputs": [],
   "source": [
    "#pip install nsepy==0.8"
   ]
  },
  {
   "cell_type": "code",
   "execution_count": null,
   "id": "46f487c5",
   "metadata": {},
   "outputs": [],
   "source": []
  }
 ],
 "metadata": {
  "kernelspec": {
   "display_name": "Python 3 (ipykernel)",
   "language": "python",
   "name": "python3"
  },
  "language_info": {
   "codemirror_mode": {
    "name": "ipython",
    "version": 3
   },
   "file_extension": ".py",
   "mimetype": "text/x-python",
   "name": "python",
   "nbconvert_exporter": "python",
   "pygments_lexer": "ipython3",
   "version": "3.11.5"
  }
 },
 "nbformat": 4,
 "nbformat_minor": 5
}
